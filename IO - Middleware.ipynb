{
 "cells": [
  {
   "cell_type": "code",
   "execution_count": 83,
   "metadata": {
    "dotnet_interactive": {
     "language": "csharp"
    },
    "polyglot_notebook": {
     "kernelName": "csharp"
    }
   },
   "outputs": [
    {
     "name": "stdout",
     "output_type": "stream",
     "text": [
      "statrting\n",
      "execution first function\n",
      "end\n"
     ]
    }
   ],
   "source": [
    "Main();\n",
    "void Main() {\n",
    "    Console.WriteLine(\"statrting\");\n",
    "    First();\n",
    "    Console.WriteLine(\"end\");\n",
    "}\n",
    "\n",
    "\n",
    "public void First() {\n",
    "   Console.WriteLine(\"execution first function\");\n",
    "}"
   ]
  }
 ],
 "metadata": {
  "kernelspec": {
   "display_name": ".NET (C#)",
   "language": "C#",
   "name": ".net-csharp"
  },
  "language_info": {
   "name": "polyglot-notebook"
  },
  "polyglot_notebook": {
   "kernelInfo": {
    "defaultKernelName": "csharp",
    "items": [
     {
      "aliases": [],
      "languageName": "csharp",
      "name": "csharp"
     }
    ]
   }
  }
 },
 "nbformat": 4,
 "nbformat_minor": 2
}
